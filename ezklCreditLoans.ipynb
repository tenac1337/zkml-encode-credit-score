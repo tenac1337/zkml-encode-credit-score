{
  "cells": [
    {
      "cell_type": "markdown",
      "metadata": {
        "id": "n8QlFzjPRIGN"
      },
      "source": [
        "# EZKL Credit Loans\n",
        "\n"
      ]
    },
    {
      "cell_type": "markdown",
      "metadata": {
        "id": "dx81GOIySIpa"
      },
      "source": [
        "# Step 1: Training a credit score classification model\n",
        "\n",
        "\n"
      ]
    },
    {
      "cell_type": "markdown",
      "metadata": {
        "id": "JhHE2WMvS9NP"
      },
      "source": [
        "First, we will need to import all the various dependencies required to train the model"
      ]
    },
    {
      "cell_type": "code",
      "execution_count": null,
      "metadata": {
        "id": "gvQ5HL1bTDWF"
      },
      "outputs": [],
      "source": [
        "import pandas as pd\n",
        "from sklearn.datasets import load_iris\n",
        "from sklearn.model_selection import train_test_split\n",
        "from sklearn.metrics import accuracy_score, precision_score, recall_score\n",
        "import numpy as np\n",
        "import torch\n",
        "import torch.nn as nn\n",
        "import torch.nn.functional as F\n",
        "from torch.autograd import Variable\n",
        "import tqdm"
      ]
    },
    {
      "cell_type": "code",
      "source": [
        "from sklearn.preprocessing import LabelEncoder, StandardScaler"
      ],
      "metadata": {
        "id": "zbITIB1IaPnp"
      },
      "execution_count": null,
      "outputs": []
    },
    {
      "cell_type": "markdown",
      "metadata": {
        "id": "Op9SHfZHUkaR"
      },
      "source": []
    },
    {
      "cell_type": "code",
      "source": [
        "from google.colab import drive\n",
        "drive.mount('/content/drive')\n"
      ],
      "metadata": {
        "colab": {
          "base_uri": "https://localhost:8080/"
        },
        "id": "NBheGcPOWigK",
        "outputId": "0e038b5d-cc67-4550-c0ca-a7937d6aa951"
      },
      "execution_count": null,
      "outputs": [
        {
          "output_type": "stream",
          "name": "stdout",
          "text": [
            "Mounted at /content/drive\n"
          ]
        }
      ]
    },
    {
      "cell_type": "code",
      "source": [
        "import pandas as pd\n",
        "\n",
        "# Define the path to your dataset\n",
        "file_path = \"/content/drive/My Drive/Colab Notebooks/ZKML/CreditScoreClassificationDataset.csv\"\n",
        "\n",
        "# Load the dataset into a Pandas DataFrame\n",
        "df = pd.read_csv(file_path)\n",
        "\n",
        "# Display the first few rows\n",
        "print(df.head())\n"
      ],
      "metadata": {
        "colab": {
          "base_uri": "https://localhost:8080/"
        },
        "id": "hHPiIDedWqwy",
        "outputId": "3bc46963-9dfe-4227-e898-b1d44c32a17a"
      },
      "execution_count": null,
      "outputs": [
        {
          "output_type": "stream",
          "name": "stdout",
          "text": [
            "   Age  Gender  Income            Education Marital Status  \\\n",
            "0   25  Female   50000    Bachelor's Degree         Single   \n",
            "1   30    Male  100000      Master's Degree        Married   \n",
            "2   35  Female   75000            Doctorate        Married   \n",
            "3   40    Male  125000  High School Diploma         Single   \n",
            "4   45  Female  100000    Bachelor's Degree        Married   \n",
            "\n",
            "   Number of Children Home Ownership Credit Score  \n",
            "0                   0         Rented         High  \n",
            "1                   2          Owned         High  \n",
            "2                   1          Owned         High  \n",
            "3                   0          Owned         High  \n",
            "4                   3          Owned         High  \n"
          ]
        }
      ]
    },
    {
      "cell_type": "code",
      "source": [
        "df.info()"
      ],
      "metadata": {
        "colab": {
          "base_uri": "https://localhost:8080/"
        },
        "id": "DGm3Ki5NXVwG",
        "outputId": "ad39133d-01d6-497e-cc3c-3ef5f19a4666"
      },
      "execution_count": null,
      "outputs": [
        {
          "output_type": "stream",
          "name": "stdout",
          "text": [
            "<class 'pandas.core.frame.DataFrame'>\n",
            "RangeIndex: 164 entries, 0 to 163\n",
            "Data columns (total 8 columns):\n",
            " #   Column              Non-Null Count  Dtype \n",
            "---  ------              --------------  ----- \n",
            " 0   Age                 164 non-null    int64 \n",
            " 1   Gender              164 non-null    object\n",
            " 2   Income              164 non-null    int64 \n",
            " 3   Education           164 non-null    object\n",
            " 4   Marital Status      164 non-null    object\n",
            " 5   Number of Children  164 non-null    int64 \n",
            " 6   Home Ownership      164 non-null    object\n",
            " 7   Credit Score        164 non-null    object\n",
            "dtypes: int64(3), object(5)\n",
            "memory usage: 10.4+ KB\n"
          ]
        }
      ]
    },
    {
      "cell_type": "code",
      "source": [
        "def preprocess_data(df):\n",
        "    \"\"\"Encodes categorical variables correctly and ensures numeric data.\"\"\"\n",
        "\n",
        "    print(\"Preprocessing dataset...\")\n",
        "\n",
        "    # **Label Encoding for Ordinal Features**\n",
        "    label_encoders = {}\n",
        "    ordinal_cols = [\"Education\", \"Credit Score\"]\n",
        "\n",
        "    for col in ordinal_cols:\n",
        "        le = LabelEncoder()\n",
        "        df[col] = le.fit_transform(df[col])\n",
        "        label_encoders[col] = le\n",
        "\n",
        "    # **One-Hot Encoding for Non-Ordinal Features**\n",
        "    df = pd.get_dummies(df, columns=[\"Gender\", \"Marital Status\", \"Home Ownership\"], drop_first=True)\n",
        "\n",
        "    # 🚨 Fix: Convert all `bool` columns to `int`\n",
        "    df = df.astype({col: int for col in df.select_dtypes(include=['bool']).columns})\n",
        "\n",
        "    # **Normalize numerical features**\n",
        "    scaler = StandardScaler()\n",
        "    df[[\"Age\", \"Income\", \"Number of Children\"]] = scaler.fit_transform(df[[\"Age\", \"Income\", \"Number of Children\"]])\n",
        "\n",
        "    # **Convert everything to numeric to avoid errors**\n",
        "    df = df.apply(pd.to_numeric, errors=\"coerce\")\n",
        "\n",
        "    # **Final Debug Check**\n",
        "    print(\"✅ Final column data types after encoding:\")\n",
        "    print(df.dtypes)\n",
        "\n",
        "    # **Split features and target**\n",
        "    X = df.drop(columns=[\"Credit Score\"])\n",
        "    y = df[\"Credit Score\"]\n",
        "\n",
        "    X_train, X_test, y_train, y_test = train_test_split(X, y, test_size=0.2, random_state=42)\n",
        "\n",
        "    return X_train, X_test, y_train, y_test, label_encoders, scaler"
      ],
      "metadata": {
        "id": "xOxNTxP-aAKF"
      },
      "execution_count": null,
      "outputs": []
    },
    {
      "cell_type": "code",
      "source": [
        "# Call preprocessing function\n",
        "train_X, test_X, train_y, test_y, label_encoders, scaler = preprocess_data(df)"
      ],
      "metadata": {
        "colab": {
          "base_uri": "https://localhost:8080/"
        },
        "id": "7VmvREFWaI-a",
        "outputId": "7ee9aec6-d94e-40e3-8bdc-d2505389311b"
      },
      "execution_count": null,
      "outputs": [
        {
          "output_type": "stream",
          "name": "stdout",
          "text": [
            "Preprocessing dataset...\n",
            "✅ Final column data types after encoding:\n",
            "Age                      float64\n",
            "Income                   float64\n",
            "Education                  int64\n",
            "Number of Children       float64\n",
            "Credit Score               int64\n",
            "Gender_Male                int64\n",
            "Marital Status_Single      int64\n",
            "Home Ownership_Rented      int64\n",
            "dtype: object\n"
          ]
        }
      ]
    },
    {
      "cell_type": "code",
      "execution_count": null,
      "metadata": {
        "id": "C4XXA1hoU30c"
      },
      "outputs": [],
      "source": [
        "# iris = load_iris()\n",
        "# dataset = pd.DataFrame(\n",
        "#     data= np.c_[iris['data'], iris['target']],\n",
        "#     columns= iris['feature_names'] + ['target'])\n",
        "# dataset"
      ]
    },
    {
      "cell_type": "markdown",
      "metadata": {
        "id": "I8RargmGTWN2"
      },
      "source": [
        "Next, we can begin defining the neural net model. For this dataset we will use a small fully connected neural net.\n",
        "\n",
        "<br />\n",
        "\n",
        "**Note:**\n",
        "For the 1st layer we use 4x20, because there are 4 features we want as inputs. After which we add a ReLU.\n",
        "\n",
        "For the 2nd layer we use 20x20, then add a ReLU.\n",
        "\n",
        "And for the last layer we use 20x3, because there are 3 classes we want to classify, then add a ReLU.\n",
        "\n",
        "The last ReLU function gives us an array of 3 elements where the position of the largest value gives us the target that we want to classify.\n",
        "\n",
        "For example, if we get [0, 0.001, 0.002] as the output of the last ReLU. As, 0.002 is the largest value, the inferred value is 2.\n",
        "\n"
      ]
    },
    {
      "cell_type": "code",
      "execution_count": null,
      "metadata": {
        "id": "dIdQ9U3yTKtP"
      },
      "outputs": [],
      "source": [
        "# class Model(nn.Module):\n",
        "#     # define nn\n",
        "#     def __init__(self):\n",
        "#         super(Model, self).__init__()\n",
        "#         self.fc1 = nn.Linear(4, 20)\n",
        "#         self.fc2 = nn.Linear(20, 20)\n",
        "#         self.fc3 = nn.Linear(20, 3)\n",
        "#         self.relu = nn.ReLU()\n",
        "\n",
        "#     def forward(self, x):\n",
        "#         x = self.fc1(x)\n",
        "#         x = self.relu(x)\n",
        "#         x = self.fc2(x)\n",
        "#         x = self.relu(x)\n",
        "#         x = self.fc3(x)\n",
        "#         x = self.relu(x)\n",
        "\n",
        "#         return x\n",
        "\n",
        "# # Initialize Model\n",
        "# model = Model()"
      ]
    },
    {
      "cell_type": "code",
      "source": [
        "import torch\n",
        "import torch.nn as nn\n",
        "import torch.nn.functional as F\n",
        "\n",
        "class Model(nn.Module):\n",
        "    def __init__(self, input_size):\n",
        "        super(Model, self).__init__()\n",
        "        self.fc1 = nn.Linear(input_size, 20)  # First hidden layer\n",
        "        self.fc2 = nn.Linear(20, 20)          # Second hidden layer\n",
        "        self.fc3 = nn.Linear(20, 3)           # Output layer (assuming 3 credit score categories: Low, Average, High)\n",
        "        self.relu = nn.ReLU()                 # Activation function\n",
        "\n",
        "    def forward(self, x):\n",
        "        x = self.fc1(x)\n",
        "        x = self.relu(x)\n",
        "        x = self.fc2(x)\n",
        "        x = self.relu(x)\n",
        "        x = self.fc3(x)\n",
        "        return x  # No activation after last layer since CrossEntropyLoss expects raw logits\n",
        "\n",
        "# Get the input feature count from preprocessed training data\n",
        "input_size = train_X.shape[1]\n",
        "\n",
        "# Initialize model with correct input size\n",
        "model = Model(input_size)\n",
        "\n",
        "print(f\"✅ Model initialized with input size: {input_size}\")\n"
      ],
      "metadata": {
        "colab": {
          "base_uri": "https://localhost:8080/"
        },
        "id": "6Ob03_-tbCEx",
        "outputId": "04e2acbc-6fda-49f2-d815-3251b4745d54"
      },
      "execution_count": null,
      "outputs": [
        {
          "output_type": "stream",
          "name": "stdout",
          "text": [
            "✅ Model initialized with input size: 7\n"
          ]
        }
      ]
    },
    {
      "cell_type": "markdown",
      "metadata": {
        "id": "SfC03XLNXDPZ"
      },
      "source": [
        "We will now need to split the dataset into a training set and testing set for ML. This is done fairly easily with the `train_test_split` helper function from sklearn."
      ]
    },
    {
      "cell_type": "code",
      "execution_count": null,
      "metadata": {
        "colab": {
          "base_uri": "https://localhost:8080/"
        },
        "id": "agmbEdmfUO1-",
        "outputId": "23e54944-d747-4752-d255-94ca05d10a55"
      },
      "outputs": [
        {
          "output_type": "stream",
          "name": "stdout",
          "text": [
            "train_y:  84     1\n",
            "2      1\n",
            "94     1\n",
            "45     1\n",
            "42     0\n",
            "      ..\n",
            "71     1\n",
            "106    0\n",
            "14     1\n",
            "92     1\n",
            "102    1\n",
            "Name: Credit Score, Length: 131, dtype: int64\n",
            "test_y:  135    0\n",
            "115    1\n",
            "131    0\n",
            "55     1\n",
            "95     1\n",
            "29     0\n",
            "157    1\n",
            "51     1\n",
            "101    1\n",
            "145    1\n",
            "19     0\n",
            "85     2\n",
            "15     1\n",
            "66     1\n",
            "24     2\n",
            "30     1\n",
            "132    1\n",
            "105    2\n",
            "152    1\n",
            "16     1\n",
            "75     1\n",
            "18     2\n",
            "12     2\n",
            "9      1\n",
            "31     1\n",
            "155    1\n",
            "98     1\n",
            "56     1\n",
            "134    1\n",
            "160    0\n",
            "139    1\n",
            "78     1\n",
            "60     1\n",
            "Name: Credit Score, dtype: int64\n"
          ]
        }
      ],
      "source": [
        "# train_X, test_X, train_y, test_y = train_test_split(\n",
        "#     dataset[dataset.columns[0:4]].values, # use columns 0-4 as X\n",
        "#     dataset.target, # use target as y\n",
        "#     test_size=0.2 # use 20% of data for testing\n",
        "# )\n",
        "\n",
        "\n",
        "# Uncomment for sanity checks\n",
        "# print(\"train_X: \", train_X)\n",
        "# print(\"test_X: \", test_X)\n",
        "print(\"train_y: \", train_y)\n",
        "print(\"test_y: \", test_y)"
      ]
    },
    {
      "cell_type": "markdown",
      "metadata": {
        "id": "_FrQXhAGZGS3"
      },
      "source": [
        "We can now define the parameters for training, we will use the [Cross Entropy Loss](https://machinelearningmastery.com/cross-entropy-for-machine-learning/) and [Stochastic Gradient Descent Optimizer](https://en.wikipedia.org/wiki/Stochastic_gradient_descent)."
      ]
    },
    {
      "cell_type": "code",
      "source": [
        "# Convert Pandas DataFrames to PyTorch tensors\n",
        "# Ensure train_X, test_X, train_y, and test_y are DataFrames before conversion\n",
        "if not isinstance(train_X, torch.Tensor):\n",
        "    train_X = torch.tensor(train_X.to_numpy(), dtype=torch.float32)\n",
        "if not isinstance(test_X, torch.Tensor):\n",
        "    test_X = torch.tensor(test_X.to_numpy(), dtype=torch.float32)\n",
        "if not isinstance(train_y, torch.Tensor):\n",
        "    train_y = torch.tensor(train_y.to_numpy(), dtype=torch.long)\n",
        "if not isinstance(test_y, torch.Tensor):\n",
        "    test_y = torch.tensor(test_y.to_numpy(), dtype=torch.long)\n",
        "\n",
        "# Check if GPU is available\n",
        "device = torch.device(\"cuda\" if torch.cuda.is_available() else \"cpu\")\n",
        "\n",
        "# Initialize model and move to device\n",
        "model = Model(input_size).to(device)\n",
        "\n",
        "\n",
        "# Move tensors to device (Fixed ✅)\n",
        "train_X = train_X.to(device)\n",
        "test_X = test_X.to(device)\n",
        "train_y = train_y.to(device)\n",
        "test_y = test_y.to(device)\n",
        "\n",
        "print(\"✅ Model and data successfully moved to:\", device)\n",
        "\n"
      ],
      "metadata": {
        "colab": {
          "base_uri": "https://localhost:8080/"
        },
        "id": "iZcYD-wwcSGD",
        "outputId": "42c019d2-9538-46b6-8d77-9fbeb7ba30c9"
      },
      "execution_count": null,
      "outputs": [
        {
          "output_type": "stream",
          "name": "stdout",
          "text": [
            "✅ Model and data successfully moved to: cpu\n"
          ]
        }
      ]
    },
    {
      "cell_type": "code",
      "execution_count": null,
      "metadata": {
        "colab": {
          "base_uri": "https://localhost:8080/"
        },
        "id": "9PjADXnuXbdk",
        "outputId": "08d009ec-78be-4c6c-807b-479af2cdbb7c"
      },
      "outputs": [
        {
          "output_type": "stream",
          "name": "stderr",
          "text": [
            "100%|██████████| 800/800 [00:01<00:00, 597.53it/s]\n"
          ]
        }
      ],
      "source": [
        "# our loss function\n",
        "loss_fn = nn.CrossEntropyLoss()\n",
        "\n",
        "# our optimizer\n",
        "optimizer = torch.optim.SGD(model.parameters(), lr=0.01)\n",
        "\n",
        "\n",
        "# use 800 EPOCHS\n",
        "EPOCHS = 800\n",
        "\n",
        "\n",
        "\n",
        "\n",
        "loss_list     = np.zeros((EPOCHS,))\n",
        "accuracy_list = np.zeros((EPOCHS,))\n",
        "\n",
        "\n",
        "# we use tqdm for nice loading bars\n",
        "for epoch in tqdm.trange(EPOCHS):\n",
        "\n",
        "    # To train, we get a prediction from the current network\n",
        "    predicted_y = model(train_X)\n",
        "\n",
        "    # Compute the loss to see how bad or good we are doing\n",
        "    loss = loss_fn(predicted_y, train_y)\n",
        "\n",
        "    # Append the loss to keep track of our performance\n",
        "    loss_list[epoch] = loss.item()\n",
        "\n",
        "    # Afterwards, we will need to zero the gradients to reset\n",
        "    optimizer.zero_grad()\n",
        "    loss.backward()\n",
        "    optimizer.step()\n",
        "\n",
        "    # Calculate the accuracy, call torch.no_grad() to prevent updating gradients\n",
        "    # while calculating accuracy\n",
        "    with torch.no_grad():\n",
        "        y_pred = model(test_X)\n",
        "        correct = (torch.argmax(y_pred, dim=1) == test_y).type(torch.FloatTensor)\n",
        "        accuracy_list[epoch] = correct.mean()"
      ]
    },
    {
      "cell_type": "code",
      "execution_count": null,
      "metadata": {
        "colab": {
          "base_uri": "https://localhost:8080/",
          "height": 546
        },
        "id": "2fHJAgvwboCe",
        "outputId": "e2c81b40-7415-4e5d-fd42-633c036dfd89"
      },
      "outputs": [
        {
          "output_type": "display_data",
          "data": {
            "text/plain": [
              "<Figure size 1200x600 with 2 Axes>"
            ],
            "image/png": "[encoded data removed]"
          },
          "metadata": {}
        }
      ],
      "source": [
        "# Plot the Accuracy and Loss\n",
        "\n",
        "# import matplotlib\n",
        "import matplotlib.pyplot as plt\n",
        "\n",
        "plt.style.use('ggplot')\n",
        "\n",
        "\n",
        "fig, (ax1, ax2) = plt.subplots(2, figsize=(12, 6), sharex=True)\n",
        "\n",
        "ax1.plot(accuracy_list)\n",
        "ax1.set_ylabel(\"Accuracy\")\n",
        "ax2.plot(loss_list)\n",
        "ax2.set_ylabel(\"Loss\")\n",
        "ax2.set_xlabel(\"epochs\");"
      ]
    },
    {
      "cell_type": "markdown",
      "metadata": {
        "id": "djB-UtvgYbF2"
      },
      "source": [
        "## Congratulations! You've just trained a neural network\n",
        "\n",
        "**Exercise:** The model provided is very simplistic, what are other ways the model can be improved upon?"
      ]
    },
    {
      "cell_type": "code",
      "source": [
        "# import torch\n",
        "# from sklearn.metrics import accuracy_score, precision_score, recall_score, f1_score\n",
        "\n",
        "# def predictions(model, test_X, test_y):\n",
        "#     \"\"\"\n",
        "#     Evaluates the trained model on the test dataset and prints accuracy, precision, recall, and F1 score.\n",
        "#     \"\"\"\n",
        "\n",
        "#     print(\"\\n🔍 Evaluating Model on Test Data...\")\n",
        "\n",
        "#     # Put model in evaluation mode\n",
        "#     model.eval()\n",
        "\n",
        "#     # Move test data to the same device as model (important for GPU training)\n",
        "#     test_X = test_X.to(model.fc1.weight.device)\n",
        "#     test_y = test_y.to(model.fc1.weight.device)\n",
        "\n",
        "#     # Disable gradient computation during testing (saves memory)\n",
        "#     with torch.no_grad():\n",
        "#         y_pred_logits = model(test_X)  # Get raw logits\n",
        "#         y_pred = torch.argmax(y_pred_logits, dim=1)  # Convert to class predictions\n",
        "\n",
        "#     # Compute accuracy\n",
        "#     correct = (y_pred == test_y).sum().item()\n",
        "#     total = test_y.size(0)\n",
        "#     test_accuracy = correct / total\n",
        "\n",
        "#     print(f\"🔹 Test Accuracy: {test_accuracy:.4f} ({test_accuracy * 100:.2f}%)\")\n",
        "\n",
        "#     # Convert tensors to NumPy for sklearn metrics\n",
        "#     y_pred_np = y_pred.cpu().numpy()\n",
        "#     test_y_np = test_y.cpu().numpy()\n",
        "\n",
        "#     # Compute precision, recall, and F1-score\n",
        "#     test_acc = accuracy_score(test_y_np, y_pred_np)\n",
        "#     test_precision = precision_score(test_y_np, y_pred_np, average='weighted')\n",
        "#     test_recall = recall_score(test_y_np, y_pred_np, average='weighted')\n",
        "#     test_f1 = f1_score(test_y_np, y_pred_np, average='weighted')\n",
        "\n",
        "#     print(f\"🔹 Precision: {test_precision:.4f}\")\n",
        "#     print(f\"🔹 Recall: {test_recall:.4f}\")\n",
        "#     print(f\"🔹 F1 Score: {test_f1:.4f}\")\n",
        "\n",
        "#     return test_acc, test_precision, test_recall, test_f1\n"
      ],
      "metadata": {
        "id": "xupTkLRZiN5M"
      },
      "execution_count": null,
      "outputs": []
    },
    {
      "cell_type": "code",
      "source": [
        "import pandas as pd\n",
        "import torch\n",
        "\n",
        "def predictions(model, test_X, test_y, df, scaler, label_encoders):\n",
        "    \"\"\"\n",
        "    Evaluates the model on test data and displays predictions in real-world values.\n",
        "    \"\"\"\n",
        "\n",
        "    print(\"\\n🔍 Evaluating Model on Test Data...\")\n",
        "\n",
        "    # Put model in evaluation mode\n",
        "    model.eval()\n",
        "\n",
        "    # Move test data to the same device as model\n",
        "    test_X = test_X.to(model.fc1.weight.device)\n",
        "    test_y = test_y.to(model.fc1.weight.device)\n",
        "\n",
        "    # Disable gradient computation during testing (saves memory)\n",
        "    with torch.no_grad():\n",
        "        y_pred_logits = model(test_X)  # Get raw logits\n",
        "        y_pred = torch.argmax(y_pred_logits, dim=1)  # Convert to class labels\n",
        "\n",
        "    # Convert tensors to NumPy\n",
        "    y_pred_np = y_pred.cpu().numpy()\n",
        "    test_y_np = test_y.cpu().numpy()\n",
        "    test_X_np = test_X.cpu().numpy()\n",
        "\n",
        "    # Reverse standardization for numerical features\n",
        "    original_features = scaler.inverse_transform(test_X_np[:, :3])  # Only first 3 columns were scaled\n",
        "\n",
        "    # Convert predictions back to original category labels\n",
        "    # credit_score_labels = {v: k for k, v in label_encoders[\"Credit Score\"].classes_.items()}  # Reverse mapping\n",
        "    credit_score_labels = {v: k for v, k in enumerate(label_encoders[\"Credit Score\"].classes_)}\n",
        "\n",
        "\n",
        "    # Reconstruct DataFrame with original values\n",
        "    results_df = pd.DataFrame(original_features, columns=[\"Age\", \"Income\", \"Number of Children\"])\n",
        "\n",
        "    # Add categorical features back (Gender, Marital Status, etc.)\n",
        "    original_categorical = pd.DataFrame(test_X_np[:, 3:], columns=[col for col in df.columns if col not in [\"Age\", \"Income\", \"Number of Children\", \"Credit Score\"]])\n",
        "\n",
        "    # Add decoded predictions\n",
        "    results_df = pd.concat([results_df, original_categorical], axis=1)\n",
        "    results_df[\"Predicted Credit Score\"] = [credit_score_labels[val] for val in y_pred_np]\n",
        "    results_df[\"Actual Credit Score\"] = [credit_score_labels[val] for val in test_y_np]\n",
        "\n",
        "    print(\"\\n🔹 Sample of Real-World Predictions:\")\n",
        "    print(results_df.head(10))  # Show first 10 rows\n",
        "\n",
        "    return results_df  # Return the full DataFrame if needed\n"
      ],
      "metadata": {
        "id": "x2PnSbMyi-Lv"
      },
      "execution_count": null,
      "outputs": []
    },
    {
      "cell_type": "code",
      "source": [
        "# predictions(model, test_X, test_y)"
      ],
      "metadata": {
        "id": "Jp18hXcHiO7H"
      },
      "execution_count": null,
      "outputs": []
    },
    {
      "cell_type": "code",
      "source": [
        "results_df = predictions(model, test_X, test_y, df, scaler, label_encoders)\n"
      ],
      "metadata": {
        "colab": {
          "base_uri": "https://localhost:8080/"
        },
        "id": "1tNIicvKjEEu",
        "outputId": "db78ca2e-73e7-4150-b4aa-a6272bee7e36"
      },
      "execution_count": null,
      "outputs": [
        {
          "output_type": "stream",
          "name": "stdout",
          "text": [
            "\n",
            "🔍 Evaluating Model on Test Data...\n",
            "\n",
            "🔹 Sample of Real-World Predictions:\n",
            "    Age   Income  Number of Children    Gender  Education  Marital Status  \\\n",
            "0  25.0  55000.0            1.533088 -0.740862        0.0             1.0   \n",
            "1  48.0  87500.0            2.413737  0.394665        0.0             0.0   \n",
            "2  26.0  55000.0            1.533088  0.394665        0.0             0.0   \n",
            "3  39.0  62500.0            1.533088  1.530191        0.0             0.0   \n",
            "4  35.0  90000.0            2.413737  0.394665        0.0             0.0   \n",
            "5  25.0  55000.0            1.533088 -0.740862        0.0             1.0   \n",
            "6  48.0  82500.0            2.413737  0.394665        0.0             0.0   \n",
            "7  48.0  82500.0            2.413737  0.394665        0.0             0.0   \n",
            "8  36.0  95000.0            4.175035  1.530191        0.0             0.0   \n",
            "9  46.0  95000.0            3.294386  0.394665        0.0             0.0   \n",
            "\n",
            "   Home Ownership Predicted Credit Score Actual Credit Score  \n",
            "0             1.0                Average             Average  \n",
            "1             0.0                   High                High  \n",
            "2             0.0                Average             Average  \n",
            "3             0.0                   High                High  \n",
            "4             0.0                   High                High  \n",
            "5             1.0                Average             Average  \n",
            "6             0.0                   High                High  \n",
            "7             0.0                   High                High  \n",
            "8             0.0                   High                High  \n",
            "9             0.0                   High                High  \n"
          ]
        }
      ]
    },
    {
      "cell_type": "markdown",
      "metadata": {
        "id": "JgtwrbMZcgla"
      },
      "source": [
        "# Step 2: ZK the Neural Network\n",
        "\n",
        "Now that we have the Neural Network trained, we can use ezkl to easily ZK our model.\n",
        "\n",
        "To proceed we will now need to install `ezkl`\n",
        "\n"
      ]
    },
    {
      "cell_type": "code",
      "execution_count": null,
      "metadata": {
        "id": "C_YiqknhdDwN"
      },
      "outputs": [],
      "source": [
        "# check if notebook is in colab\n",
        "try:\n",
        "    import google.colab\n",
        "    import subprocess\n",
        "    import sys\n",
        "    subprocess.check_call([sys.executable, \"-m\", \"pip\", \"install\", \"ezkl\"])\n",
        "    subprocess.check_call([sys.executable, \"-m\", \"pip\", \"install\", \"onnx\"])\n",
        "\n",
        "# rely on local installation of ezkl if the notebook is not in colab\n",
        "except:\n",
        "    pass\n",
        "\n",
        "import os\n",
        "import json\n",
        "import ezkl"
      ]
    },
    {
      "cell_type": "markdown",
      "metadata": {
        "id": "-b_z_d2FdVTB"
      },
      "source": [
        "Next, we will need to export the neural network to a `.onnx` file. ezkl reads this `.onnx` file and converts it into a circuit which then allows you to generate proofs as well as verify proofs"
      ]
    },
    {
      "cell_type": "code",
      "execution_count": null,
      "metadata": {
        "id": "YeKWP0tFeCpq"
      },
      "outputs": [],
      "source": [
        "# Specify all the files we need\n",
        "\n",
        "model_path = os.path.join('network.onnx')\n",
        "data_path = os.path.join('input.json')\n",
        "cal_data_path = os.path.join('calibration.json')"
      ]
    },
    {
      "cell_type": "code",
      "execution_count": null,
      "metadata": {
        "id": "cQeNw_qndQ8g"
      },
      "outputs": [],
      "source": [
        "# After training, export to onnx (network.onnx) and create a data file (input.json)\n",
        "\n",
        "# create a random input\n",
        "# x = test_X[0].reshape(1, 4)\n",
        "\n",
        "\n",
        "# Get the actual number of features dynamically\n",
        "num_features = test_X.shape[1]  # Should be 7\n",
        "\n",
        "# Reshape correctly\n",
        "x = test_X[0].reshape(1, num_features)\n",
        "\n",
        "# Flips the neural net into inference mode\n",
        "model.eval()\n",
        "\n",
        "# Export the model\n",
        "torch.onnx.export(model,                     # model being run\n",
        "                  x,                         # model input (or a tuple for multiple inputs)\n",
        "                  model_path,                # where to save the model (can be a file or file-like object)\n",
        "                  export_params=True,        # store the trained parameter weights inside the model file\n",
        "                  opset_version=10,          # the ONNX version to export the model to\n",
        "                  do_constant_folding=True,  # whether to execute constant folding for optimization\n",
        "                  input_names = ['input'],   # the model's input names\n",
        "                  output_names = ['output'], # the model's output names\n",
        "                  dynamic_axes={'input' : {0 : 'batch_size'},    # variable length axes\n",
        "                                'output' : {0 : 'batch_size'}})\n",
        "\n",
        "data_array = ((x).detach().numpy()).reshape([-1]).tolist()\n",
        "\n",
        "data = dict(input_data = [data_array])\n",
        "\n",
        "    # Serialize data into file:\n",
        "json.dump(data, open(data_path, 'w'))\n",
        "\n",
        "\n",
        "\n"
      ]
    },
    {
      "cell_type": "markdown",
      "metadata": {
        "id": "9P4x79hIeiLO"
      },
      "source": [
        "After which we can proceed to generate the settings file for `ezkl` and run calibrate settings to find the optimal settings for `ezkl`"
      ]
    },
    {
      "cell_type": "code",
      "execution_count": null,
      "metadata": {
        "id": "cY25BIyreIX8"
      },
      "outputs": [],
      "source": [
        "!RUST_LOG=trace\n",
        "# TODO: Dictionary outputs\n",
        "res = ezkl.gen_settings()\n",
        "assert res == True\n",
        "\n"
      ]
    },
    {
      "cell_type": "code",
      "execution_count": null,
      "metadata": {
        "colab": {
          "base_uri": "https://localhost:8080/"
        },
        "id": "KTw8mPaUqmFx",
        "outputId": "fca5a03b-f6bd-4f30-8d2a-8741e9dc3240"
      },
      "outputs": [
        {
          "output_type": "stream",
          "name": "stderr",
          "text": [
            "WARNING:ezkl.circuit.table:Using 5 columns for range-check.\n",
            "WARNING:ezkl.circuit.table:Using 5 columns for range-check.\n",
            "WARNING:ezkl.circuit.table:Using 5 columns for range-check.\n",
            "WARNING:ezkl.circuit.table:Using 5 columns for range-check.\n",
            "WARNING:ezkl.execute:\n",
            "\n",
            " <------------- Numerical Fidelity Report (input_scale: 2, param_scale: 2, scale_input_multiplier: 10) ------------->\n",
            "\n",
            "+-------------+--------------+------------+-------------+----------------+------------------+---------------+---------------+--------------------+--------------------+------------------------+\n",
            "| mean_error  | median_error | max_error  | min_error   | mean_abs_error | median_abs_error | max_abs_error | min_abs_error | mean_squared_error | mean_percent_error | mean_abs_percent_error |\n",
            "+-------------+--------------+------------+-------------+----------------+------------------+---------------+---------------+--------------------+--------------------+------------------------+\n",
            "| -0.16247822 | -0.275648    | 0.18825907 | -0.40004575 | 0.28798428     | 0.275648         | 0.40004575    | 0.18825907    | 0.09048664         | 0.19201834         | 0.35131922             |\n",
            "+-------------+--------------+------------+-------------+----------------+------------------+---------------+---------------+--------------------+--------------------+------------------------+\n",
            "\n",
            "\n"
          ]
        }
      ],
      "source": [
        "# use the test set to calibrate the circuit\n",
        "cal_data = dict(input_data = test_X.flatten().tolist())\n",
        "\n",
        "# Serialize calibration data into file:\n",
        "json.dump(data, open(cal_data_path, 'w'))\n",
        "\n",
        "# Optimize for resources, we cap logrows at 12 to reduce setup and proving time, at the expense of accuracy\n",
        "# You may want to increase the max logrows if accuracy is a concern\n",
        "res = await ezkl.calibrate_settings(target = \"resources\", max_logrows = 12, scales = [2])"
      ]
    },
    {
      "cell_type": "markdown",
      "metadata": {
        "id": "MFmPMBQ1jYao"
      },
      "source": [
        "Next, we will compile the model. The compilation step allow us to generate proofs faster."
      ]
    },
    {
      "cell_type": "code",
      "execution_count": null,
      "metadata": {
        "id": "De5XtpGUerkZ",
        "colab": {
          "base_uri": "https://localhost:8080/"
        },
        "outputId": "892cba64-c294-4648-e4b8-f35f5e1cdf01"
      },
      "outputs": [
        {
          "output_type": "stream",
          "name": "stderr",
          "text": [
            "WARNING:ezkl:low scale values (<8) may impact precision\n"
          ]
        }
      ],
      "source": [
        "res = ezkl.compile_circuit()\n",
        "assert res == True"
      ]
    },
    {
      "cell_type": "markdown",
      "metadata": {
        "id": "UbkuSVKljmhA"
      },
      "source": [
        "Before we can setup the circuit params, we need a SRS (Structured Reference String). The SRS is used to generate the proofs."
      ]
    },
    {
      "cell_type": "code",
      "execution_count": null,
      "metadata": {
        "id": "amaTcWG6f2GI"
      },
      "outputs": [],
      "source": [
        "res = await ezkl.get_srs()"
      ]
    },
    {
      "cell_type": "markdown",
      "metadata": {
        "id": "Y92p3GhVj1Jd"
      },
      "source": [
        "Now run setup, this will generate a proving key (pk) and verification key (vk). The proving key is used for proving while the verification key is used for verificaton."
      ]
    },
    {
      "cell_type": "code",
      "execution_count": null,
      "metadata": {
        "id": "fdsteit9jzfK",
        "colab": {
          "base_uri": "https://localhost:8080/"
        },
        "outputId": "c3c89d3c-8af8-4044-de94-3948e5c1a8e1"
      },
      "outputs": [
        {
          "output_type": "stream",
          "name": "stderr",
          "text": [
            "WARNING:ezkl.circuit.table:Using 5 columns for range-check.\n",
            "WARNING:ezkl.circuit.table:Using 5 columns for range-check.\n"
          ]
        }
      ],
      "source": [
        "res = ezkl.setup()\n",
        "\n",
        "\n",
        "assert res == True"
      ]
    },
    {
      "cell_type": "markdown",
      "metadata": {
        "id": "QYlqpP3jkExm"
      },
      "source": [
        "Now, we can generate a proof and verify the proof as a sanity check. We will use the \"evm\" transcript. This will allow us to provide proofs to the EVM."
      ]
    },
    {
      "cell_type": "code",
      "execution_count": null,
      "metadata": {
        "id": "yoz5Vks5kaHI"
      },
      "outputs": [],
      "source": [
        "# Generate the Witness for the proof\n",
        "\n",
        "# now generate the witness file\n",
        "witness_path = os.path.join('witness.json')\n",
        "\n",
        "res = await ezkl.gen_witness()\n",
        "assert os.path.isfile(witness_path)"
      ]
    },
    {
      "cell_type": "code",
      "execution_count": null,
      "metadata": {
        "colab": {
          "base_uri": "https://localhost:8080/"
        },
        "id": "eKkFBZX1kBdE",
        "outputId": "efd35d8d-9c02-44ae-e03b-3fc1a9d39eb3"
      },
      "outputs": [
        {
          "output_type": "stream",
          "name": "stderr",
          "text": [
            "WARNING:ezkl.circuit.table:Using 5 columns for range-check.\n",
            "WARNING:ezkl.circuit.table:Using 5 columns for range-check.\n"
          ]
        },
        {
          "output_type": "stream",
          "name": "stdout",
          "text": [
            "{'instances': [['1302000000000000000000000000000000000000000000000000000000000000', '63ffffef93f5e1439170b97948e833285d588181b64550b829a031e1724e6430', '2f00000000000000000000000000000000000000000000000000000000000000']], 'proof': '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', 'transcript_type': 'EVM'}\n"
          ]
        }
      ],
      "source": [
        "# Generate the proof\n",
        "\n",
        "proof_path = os.path.join('proof.json')\n",
        "\n",
        "proof = ezkl.prove(proof_type=\"single\", proof_path=proof_path)\n",
        "\n",
        "print(proof)\n",
        "assert os.path.isfile(proof_path)"
      ]
    },
    {
      "cell_type": "code",
      "execution_count": null,
      "metadata": {
        "colab": {
          "base_uri": "https://localhost:8080/"
        },
        "id": "DuuH-qcOkQf1",
        "outputId": "12e8bd1f-a62f-491e-8fa6-31e3d7a5506b"
      },
      "outputs": [
        {
          "output_type": "stream",
          "name": "stderr",
          "text": [
            "WARNING:ezkl.circuit.table:Using 5 columns for range-check.\n"
          ]
        },
        {
          "output_type": "stream",
          "name": "stdout",
          "text": [
            "verified\n"
          ]
        }
      ],
      "source": [
        "# verify our proof\n",
        "\n",
        "res = ezkl.verify()\n",
        "\n",
        "assert res == True\n",
        "print(\"verified\")"
      ]
    },
    {
      "cell_type": "markdown",
      "metadata": {
        "id": "TOSRigalkwH-"
      },
      "source": [
        "## Congratulations! You have just turned your Neural Network into a Halo2 Circuit!\n"
      ]
    },
    {
      "cell_type": "markdown",
      "metadata": {
        "id": "flrg3NOGwsJh"
      },
      "source": [
        "\n",
        "# Part 3: Deploying the Verifier\n",
        "Now that we have the circuit setup, we can proceed to deploy the verifier onchain.\n",
        "\n",
        "We will need to setup `solc=0.8.20` for this."
      ]
    },
    {
      "cell_type": "code",
      "execution_count": null,
      "metadata": {
        "colab": {
          "base_uri": "https://localhost:8080/"
        },
        "id": "CVqMeMYqktvl",
        "outputId": "0376970b-259c-4c77-e1fb-dd425c40873c"
      },
      "outputs": [
        {
          "output_type": "stream",
          "name": "stdout",
          "text": [
            "Installing solc '0.8.20'...\n",
            "Version '0.8.20' installed.\n",
            "Switched global version to 0.8.20\n",
            "solc, the solidity compiler commandline interface\n",
            "Version: 0.8.20+commit.a1b79de6.Linux.g++\n"
          ]
        }
      ],
      "source": [
        "# check if notebook is in colab\n",
        "try:\n",
        "    import google.colab\n",
        "    import subprocess\n",
        "    import sys\n",
        "    subprocess.check_call([sys.executable, \"-m\", \"pip\", \"install\", \"solc-select\"])\n",
        "    !solc-select install 0.8.20\n",
        "    !solc-select use 0.8.20\n",
        "    !solc --version\n",
        "\n",
        "# rely on local installation if the notebook is not in colab\n",
        "except:\n",
        "    pass"
      ]
    },
    {
      "cell_type": "markdown",
      "metadata": {
        "id": "HRHvkMjVlfWU"
      },
      "source": [
        "With solc in our environment we can now create the evm verifier."
      ]
    },
    {
      "cell_type": "code",
      "execution_count": null,
      "metadata": {
        "id": "gYlw20VZkva7",
        "colab": {
          "base_uri": "https://localhost:8080/"
        },
        "outputId": "e52b47f7-c643-4d1f-fdc2-23a810c0c917"
      },
      "outputs": [
        {
          "output_type": "stream",
          "name": "stderr",
          "text": [
            "WARNING:ezkl.circuit.table:Using 5 columns for range-check.\n"
          ]
        }
      ],
      "source": [
        "sol_code_path = os.path.join('Verifier.sol')\n",
        "abi_path = os.path.join('Verifier.abi')\n",
        "\n",
        "res = await ezkl.create_evm_verifier(\n",
        "        sol_code_path=sol_code_path,\n",
        "        abi_path=abi_path,\n",
        "    )\n",
        "\n",
        "assert res == True\n",
        "assert os.path.isfile(sol_code_path)"
      ]
    },
    {
      "cell_type": "code",
      "execution_count": null,
      "metadata": {
        "colab": {
          "base_uri": "https://localhost:8080/"
        },
        "id": "jQSAVMvxrBQD",
        "outputId": "0cf252f8-d9f6-4407-eacd-87edd8eb0e06"
      },
      "outputs": [
        {
          "output_type": "stream",
          "name": "stdout",
          "text": [
            "pubInputs:  [\"0x0000000000000000000000000000000000000000000000000000000000000213\", \"0x30644e72e131a029b85045b68181585d2833e84879b9709143e1f593efffff63\", \"0x000000000000000000000000000000000000000000000000000000000000002f\"]\n",
            "proof:  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\n"
          ]
        }
      ],
      "source": [
        "onchain_input_array = []\n",
        "\n",
        "# using a loop\n",
        "# avoiding printing last comma\n",
        "formatted_output = \"[\"\n",
        "for i, value in enumerate(proof[\"instances\"]):\n",
        "    for j, field_element in enumerate(value):\n",
        "        onchain_input_array.append(ezkl.felt_to_big_endian(field_element))\n",
        "        formatted_output += '\"' + str(onchain_input_array[-1]) + '\"'\n",
        "        if j != len(value) - 1:\n",
        "            formatted_output += \", \"\n",
        "    if i != len(proof[\"instances\"]) - 1:\n",
        "        formatted_output += \", \"\n",
        "formatted_output += \"]\"\n",
        "\n",
        "# This will be the values you use onchain\n",
        "# copy them over to remix and see if they verify\n",
        "# What happens when you change a value?\n",
        "print(\"pubInputs: \", formatted_output)\n",
        "print(\"proof: \", proof[\"proof\"])"
      ]
    },
    {
      "cell_type": "markdown",
      "metadata": {
        "id": "zrzPxPvZmX9b"
      },
      "source": [
        "We will exit colab for the next steps. At the left of colab you can see a folder icon. Click on that.\n",
        "\n",
        "\n",
        "You should see a `Verifier.sol`. Right-click and save it locally.\n",
        "\n",
        "Now go to [https://remix.ethereum.org](https://remix.ethereum.org).\n",
        "\n",
        "Create a new file within remix and copy the verifier code over.\n",
        "\n",
        "Finally, compile the code and deploy. For the demo you can deploy to the test environment within remix.\n",
        "\n",
        "If everything works, you would have deployed your verifer onchain! Copy the values in the cell above to the respective fields to test if the verifier is working.\n",
        "\n",
        "**Note that right now this setup accepts random values!**\n",
        "\n",
        "This might not be great for some applications. For that we will want to use a data attested verifier instead. [See this tutorial.](https://github.com/zkonduit/ezkl/blob/main/examples/notebooks/data_attest.ipynb)\n",
        "\n",
        "## Congratulations for making it this far!\n",
        "\n",
        "If you have followed the whole tutorial, you would have deployed a neural network inference model onchain! That's no mean feat!"
      ]
    }
  ],
  "metadata": {
    "colab": {
      "provenance": []
    },
    "kernelspec": {
      "display_name": "Python 3",
      "name": "python3"
    },
    "language_info": {
      "codemirror_mode": {
        "name": "ipython",
        "version": 3
      },
      "file_extension": ".py",
      "mimetype": "text/x-python",
      "name": "python",
      "nbconvert_exporter": "python",
      "pygments_lexer": "ipython3",
      "version": "3.12.2"
    }
  },
  "nbformat": 4,
  "nbformat_minor": 0
}